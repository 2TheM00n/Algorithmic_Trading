{
 "cells": [
  {
   "cell_type": "code",
   "execution_count": null,
   "metadata": {},
   "outputs": [],
   "source": [
    "# Import libraries:\n",
    "import os\n",
    "import time\n",
    "from time import sleep\n",
    "import logging\n",
    "import requests\n",
    "import threading\n",
    "import pandas as pd\n",
    "from dotenv import load_dotenv\n",
    "import alpaca_trade_api as tradeapi\n",
    "from datetime import datetime, timedelta"
   ]
  },
  {
   "cell_type": "code",
   "execution_count": null,
   "metadata": {},
   "outputs": [],
   "source": [
    "load_dotenv()"
   ]
  },
  {
   "cell_type": "code",
   "execution_count": null,
   "metadata": {},
   "outputs": [],
   "source": [
    "# Start logger:\n",
    "logging.basicConfig(\n",
    "\tfilename='errlog.log',\n",
    "\tlevel=logging.WARNING,\n",
    "\tformat='%(asctime)s:%(levelname)s:%(message)s'\n",
    ")"
   ]
  },
  {
   "cell_type": "code",
   "execution_count": null,
   "metadata": {},
   "outputs": [],
   "source": [
    "# Retrieve Alpaca API keys:\n",
    "alpaca_api_key=os.getenv('ALPACA_API_KEY')\n",
    "alpaca_secret_key=os.getenv('ALPACA_SECRET_KEY')"
   ]
  },
  {
   "cell_type": "code",
   "execution_count": null,
   "metadata": {},
   "outputs": [],
   "source": [
    "# Set paper trading and data url's:\n",
    "paper_url='https://paper-api.alpaca.markets'\n",
    "data_url = 'wss://data.alpaca.markets'"
   ]
  },
  {
   "cell_type": "code",
   "execution_count": null,
   "metadata": {},
   "outputs": [],
   "source": [
    "# Create trading API object:\n",
    "alpaca_api=tradeapi.REST(\n",
    "    alpaca_api_key,\n",
    "    alpaca_secret_key,\n",
    "    paper_url,\n",
    "    api_version='v2'\n",
    ")"
   ]
  },
  {
   "cell_type": "code",
   "execution_count": null,
   "metadata": {},
   "outputs": [],
   "source": [
    "# Retrieve and display account details:\n",
    "account = alpaca_api.get_account()\n",
    "print(account)"
   ]
  },
  {
   "cell_type": "code",
   "execution_count": null,
   "metadata": {},
   "outputs": [],
   "source": [
    "# List Positions:\n",
    "positions=alpaca_api.list_positions()\n",
    "print(positions)"
   ]
  },
  {
   "cell_type": "code",
   "execution_count": null,
   "metadata": {},
   "outputs": [],
   "source": [
    "# Create streaming API object:\n",
    "stream = tradeapi.stream2.StreamConn(\n",
    "    alpaca_api_key,\n",
    "    alpaca_secret_key,\n",
    "    base_url=paper_url,\n",
    "    data_url=data_url,\n",
    "    data_stream='alpacadatav1'\n",
    ")"
   ]
  },
  {
   "cell_type": "code",
   "execution_count": null,
   "metadata": {},
   "outputs": [],
   "source": [
    "# Put positions info into a DataFrame:\n",
    "positions_df=pd.DataFrame({\n",
    "    'asset_id':[x.asset_id for x in positions],\n",
    "    'ticker':[x.symbol for x in positions],\n",
    "    'cost_basis':[x.cost_basis for x in positions],\n",
    "    'asset_id':[x.asset_id for x in positions],\n",
    "    'current_price':[x.asset_id for x in positions],\n",
    "    'lastday_price':[x.asset_id for x in positions],\n",
    "    'change_today':[x.change_today for x in positions],\n",
    "    'qty':[x.qty for x in positions],\n",
    "    'market_value':[x.market_value for x in positions],\n",
    "    'unrealized_intraday_pl':[x.unrealized_intraday_pl for x in positions],\n",
    "    'unrealized_intraday_plpc':[x.unrealized_intraday_plpc for x in positions],\n",
    "    'unrealized_pl':[x.unrealized_intraday_plpc for x in positions],\n",
    "    'unrealized_plpc':[x.unrealized_intraday_plpc for x in positions]\n",
    "})\n",
    "\n",
    "# Export to .csv file:\n",
    "positions_df.to_csv('Data/stock_positions.csv')\n",
    "\n",
    "# Create tickers list from positions_df DataFrame:\n",
    "positions_tickers=positions_df.ticker.tolist()"
   ]
  },
  {
   "cell_type": "code",
   "execution_count": null,
   "metadata": {},
   "outputs": [],
   "source": [
    "# Function to stream account updates:\n",
    "@stream.on(r'^account_updates$')\n",
    "async def on_account_updates(stream, channel, account):\n",
    "    print('account', account)\n",
    "    \n",
    "# Function to stream trade updates:\n",
    "@stream.on(r'^trade_updates$')\n",
    "async def on_trade_updates(stream, channel, trade):\n",
    "    print('trade', trade)\n",
    "\n",
    "# Check for message indicating trade has closed:\n",
    "@stream.on(r'^trade_updates$')\n",
    "async def on_trade_updates(stream, channel, trade):\n",
    "\tif trade.order['order_type'] != 'market' and trade.order['filled_qty'] == '100':\n",
    "\t\t# Trade closed - begin new trade:\n",
    "\t\ttrade_params = set_trade_params(candlesticks.df.'IPDN')    \n",
    "\n",
    "# Keep  data up to date so we don’t have to query the API for historical data next for the next order:\n",
    "@stream.on(r'^AM.IPDN$')\n",
    "async def on_minute_bars(stream, channel, bar):\n",
    "    # Append the latest bar to candlesticks.df:\n",
    "\tif isinstance(candlesticks.df, pd.DataFrame):\n",
    "\t\tts = pd.to_datetime(bar.timestamp, unit='ms')\n",
    "\t\tcandlesticks.df.loc[ts] = [bar.open, bar.high, bar.low, bar.close, bar.volume]\n",
    "    # If current high took out 10-bar high send a buy order:\n",
    "\tif not trade_params['trade_taken']:\n",
    "\t\tif bar.high > trade_params['high']:\n",
    "\t\t\ttrade_params['trade_taken'] = send_order('buy', bar)\n",
    "    # If current high took out 10-bar low send a sell order:\n",
    "\t\telif bar.low < trade_params['low']:\n",
    "\t\t\ttrade_params['trade_taken'] = send_order('sell', bar)\n",
    "    # Check there's at least 900 seconds (15 min) left until market close or sleep script until market reopens:\n",
    "\tif time_to_market_close() > 900:\n",
    "\t\twait_for_market_open()\n",
    "        \n",
    "        \n",
    "# Function to start data stream:\n",
    "def start_stream():\n",
    "\tstream.run(['account_updates', 'trade_updates'])\n",
    "\n",
    "# Start the WebSocket thread:\n",
    "ws_thread = threading.Thread(target=start_stream,daemon=True)\n",
    "ws_thread.start()"
   ]
  },
  {
   "cell_type": "code",
   "execution_count": null,
   "metadata": {},
   "outputs": [],
   "source": [
    "# Function to check if market is open and sleep until open if market is closed:\n",
    "def time_to_market_open():\n",
    "\tclock = api.get_clock()\n",
    "\tif not clock.is_open:\n",
    "\t\ttime_to_open = (clock.next_open - clock.timestamp).total_seconds()\n",
    "\t\tsleep(round(time_to_open))"
   ]
  },
  {
   "cell_type": "code",
   "execution_count": null,
   "metadata": {},
   "outputs": [],
   "source": [
    "# Function to check time until market close:\n",
    "def time_to_market_close():\n",
    "\tclock = api.get_clock()\n",
    "\treturn (clock.next_close - clock.timestamp).total_seconds()"
   ]
  },
  {
   "cell_type": "code",
   "execution_count": null,
   "metadata": {},
   "outputs": [],
   "source": [
    "# Function containing our trade parameters:\n",
    "def set_trade_params(df):\n",
    "\treturn {\n",
    "\t\t'high': df.high.tail(10).max(),\n",
    "\t\t'low': df.low.tail(10).min(),\n",
    "\t\t'trade_taken': False,\n",
    "\t}"
   ]
  },
  {
   "cell_type": "code",
   "execution_count": null,
   "metadata": {},
   "outputs": [],
   "source": [
    "# Function to send an order once a target entry is identified:\n",
    "def send_order(direction, bar):\n",
    "    # No trades in last 15 mins of trading day so we can avoid mkt close volatility:\n",
    "\tif time_to_market_close() > 900:\n",
    "\t\tprint(f'sent {direction} trade')\n",
    "\t\trange_size = trade_params['high'] - trade_params['low']\n",
    "\n",
    "\t\tif direction == 'buy':\n",
    "\t\t\tsl = bar.high - range_size\n",
    "\t\t\ttp = bar.high + range_size\n",
    "\t\telif direction == 'sell':\n",
    "\t\t\tsl = bar.low + range_size\n",
    "\t\t\ttp = bar.low - range_size\n",
    "        # Submit the order\n",
    "\t\t\tapi.submit_order(\n",
    "\t\t\tsymbol='IPDN',\n",
    "\t\t\tqty=100,\n",
    "\t\t\tside=direction,\n",
    "\t\t\ttype='market',\n",
    "\t\t\ttime_in_force='day',\n",
    "\t\t\torder_class='bracket',\n",
    "\t\t\tstop_loss=dict(stop_price=str(sl)),\n",
    "\t\t\ttake_profit=dict(limit_price=str(tp)),\n",
    "\t\t)\n",
    "\n",
    "\t\treturn True\n",
    "    \n",
    "    # Sleep:\n",
    "\twait_for_market_open()\n",
    "\treturn False"
   ]
  },
  {
   "cell_type": "code",
   "execution_count": null,
   "metadata": {},
   "outputs": [],
   "source": [
    "# # Keep  data up to date so we don’t have to query the API for historical data next for the next order:\n",
    "# @stream.on(r'^AM.IPDN$')\n",
    "# async def on_minute_bars(stream, channel, bar):\n",
    "#     # Append the latest bar to candlesticks.df:\n",
    "# \tif isinstance(candlesticks.df, pd.DataFrame):\n",
    "# \t\tts = pd.to_datetime(bar.timestamp, unit='ms')\n",
    "# \t\tcandlesticks.df.loc[ts] = [bar.open, bar.high, bar.low, bar.close, bar.volume]\n",
    "#     # If current high took out 10-bar high send a buy order:\n",
    "# \tif not trade_params['trade_taken']:\n",
    "# \t\tif bar.high > trade_params['high']:\n",
    "# \t\t\ttrade_params['trade_taken'] = send_order('buy', bar)\n",
    "#     # If current high took out 10-bar low send a sell order:\n",
    "# \t\telif bar.low < trade_params['low']:\n",
    "# \t\t\ttrade_params['trade_taken'] = send_order('sell', bar)\n",
    "#     # Check there's at least 900 seconds (15 min) left until market close or sleep script until market reopens:\n",
    "# \tif time_to_market_close() > 900:\n",
    "# \t\twait_for_market_open()"
   ]
  },
  {
   "cell_type": "code",
   "execution_count": null,
   "metadata": {},
   "outputs": [],
   "source": [
    "# # Check for message indicating trade has closed:\n",
    "# @stream.on(r'^trade_updates$')\n",
    "# async def on_trade_updates(stream, channel, trade):\n",
    "# \tif trade.order['order_type'] != 'market' and trade.order['filled_qty'] == '100':\n",
    "# \t\t# Trade closed - begin new trade:\n",
    "# \t\ttrade_params = set_trade_params(candlesticks.df.IPDN)"
   ]
  },
  {
   "cell_type": "code",
   "execution_count": null,
   "metadata": {},
   "outputs": [],
   "source": [
    "candlesticks = api.get_barset('IPDN', 'minute', limit=10)\n",
    "trade_params = set_trade_params(candlesticks.df.'IPDN')\n",
    "stream.run(['AM.IPDN', 'trade_updates'])"
   ]
  }
 ],
 "metadata": {
  "kernelspec": {
   "display_name": "Python [conda env:dev]",
   "language": "python",
   "name": "conda-env-dev-py"
  },
  "language_info": {
   "codemirror_mode": {
    "name": "ipython",
    "version": 3
   },
   "file_extension": ".py",
   "mimetype": "text/x-python",
   "name": "python",
   "nbconvert_exporter": "python",
   "pygments_lexer": "ipython3",
   "version": "3.7.9"
  }
 },
 "nbformat": 4,
 "nbformat_minor": 4
}
