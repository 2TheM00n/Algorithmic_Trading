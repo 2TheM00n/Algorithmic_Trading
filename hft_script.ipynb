{
 "cells": [
  {
   "cell_type": "code",
   "execution_count": null,
   "metadata": {},
   "outputs": [],
   "source": [
    "# Import libraries:\n",
    "import os\n",
    "import time\n",
    "import requests\n",
    "import threading\n",
    "import pandas as pd\n",
    "from dotenv import load_dotenv\n",
    "import alpaca_trade_api as tradeapi\n",
    "from datetime import datetime, timedelta"
   ]
  },
  {
   "cell_type": "code",
   "execution_count": null,
   "metadata": {},
   "outputs": [],
   "source": [
    "load_dotenv()"
   ]
  },
  {
   "cell_type": "code",
   "execution_count": null,
   "metadata": {},
   "outputs": [],
   "source": [
    "# Retrieve paper trading url & API keys:\n",
    "alpaca_paper_endpoint=os.getenv('ALPACA_PAPER_ENDPOINT')\n",
    "alpaca_api_key=os.getenv('ALPACA_API_KEY')\n",
    "alpaca_secret_key=os.getenv('ALPACA_SECRET_KEY')"
   ]
  },
  {
   "cell_type": "code",
   "execution_count": null,
   "metadata": {},
   "outputs": [],
   "source": [
    "# Create trading API object:\n",
    "alpaca_api=tradeapi.REST(\n",
    "    alpaca_api_key,\n",
    "    alpaca_secret_key,\n",
    "    alpaca_paper_endpoint,\n",
    "    api_version='v2'\n",
    ")"
   ]
  },
  {
   "cell_type": "code",
   "execution_count": null,
   "metadata": {},
   "outputs": [],
   "source": [
    "# Retrieve account details:\n",
    "account = alpaca_api.get_account()\n",
    "print(account)"
   ]
  },
  {
   "cell_type": "code",
   "execution_count": null,
   "metadata": {},
   "outputs": [],
   "source": [
    "# List Positions:\n",
    "positions=alpaca_api.list_positions()\n",
    "print(positions)"
   ]
  },
  {
   "cell_type": "code",
   "execution_count": null,
   "metadata": {},
   "outputs": [],
   "source": [
    "# Put positions info into a DataFrame and export to .csv file:\n",
    "positions_df=pd.DataFrame({\n",
    "    'asset_id':[x.asset_id for x in positions],\n",
    "    'ticker':[x.symbol for x in positions],\n",
    "    'cost_basis':[x.cost_basis for x in positions],\n",
    "    'asset_id':[x.asset_id for x in positions],\n",
    "    'current_price':[x.asset_id for x in positions],\n",
    "    'lastday_price':[x.asset_id for x in positions],\n",
    "    'change_today':[x.change_today for x in positions],\n",
    "    'qty':[x.qty for x in positions],\n",
    "    'market_value':[x.market_value for x in positions],\n",
    "    'unrealized_intraday_pl':[x.unrealized_intraday_pl for x in positions],\n",
    "    'unrealized_intraday_plpc':[x.unrealized_intraday_plpc for x in positions],\n",
    "    'unrealized_pl':[x.unrealized_intraday_plpc for x in positions],\n",
    "    'unrealized_plpc':[x.unrealized_intraday_plpc for x in positions]\n",
    "})\n",
    "positions_df.to_csv('Data/stock_positions.csv')"
   ]
  },
  {
   "cell_type": "code",
   "execution_count": null,
   "metadata": {},
   "outputs": [],
   "source": [
    "# Create tickers list from positions_df DataFrame\n",
    "positions_tickers=positions_df.ticker.tolist()\n",
    "print(positions_tickers)"
   ]
  },
  {
   "cell_type": "code",
   "execution_count": null,
   "metadata": {},
   "outputs": [],
   "source": [
    "# Create the streaming connection:\n",
    "# conn = tradeapi.stream2.StreamConn(alpaca_api_key, alpaca_secret_key, alpaca_paper_endpoint)\n",
    "websocket_url = 'wss://data.alpaca.markets'\n",
    "\n",
    "conn = tradeapi.stream2.StreamConn(\n",
    "    alpaca_api_key,\n",
    "    alpaca_secret_key,\n",
    "    base_url=alpaca_paper_endpoint,\n",
    "    data_url=websocket_url,\n",
    "    data_stream='alpacadatav1'\n",
    ")\n",
    "\n",
    "# Stream account updates:\n",
    "@conn.on(r'^account_updates$')\n",
    "async def on_account_updates(conn, channel, account):\n",
    "    print('account', account)\n",
    "    \n",
    "# Stream trade updates:\n",
    "@conn.on(r'^trade_updates$')\n",
    "async def on_trade_updates(conn, channel, trade):\n",
    "    print('trade', trade)\n",
    "\n",
    "@conn.on(r'^T.AAPL$')\n",
    "async def price_data(conn, channel, bar):\n",
    "    print(bar.price)\n",
    "    \n",
    "def ws_start():\n",
    "\tconn.run(['account_updates', 'trade_updates'])\n",
    "\n",
    "# Start the WebSocket thread:\n",
    "ws_thread = threading.Thread(target=ws_start, daemon=True)\n",
    "ws_thread.start()"
   ]
  },
  {
   "cell_type": "code",
   "execution_count": null,
   "metadata": {},
   "outputs": [],
   "source": [
    "# Initiate empty variables:\n",
    "stock_price = float('nan')\n",
    "stock_sold_for = float()\n",
    "is_stock_owned = 'false'\n",
    "symbol = 'IPDN'"
   ]
  },
  {
   "cell_type": "code",
   "execution_count": null,
   "metadata": {},
   "outputs": [],
   "source": [
    "# Check if market is open:\n",
    "clock = alpaca_api.get_clock()\n",
    "if clock.is_open:\n",
    "\tpass\n",
    "else:\n",
    "\ttime_to_open = clock.next_open - clock.timestamp\n",
    "\tsleep(time_to_open.total_seconds())"
   ]
  },
  {
   "cell_type": "code",
   "execution_count": null,
   "metadata": {},
   "outputs": [],
   "source": [
    "# Check time til market close:\n",
    "def time_to_market_close():\n",
    "    clock = alpaca_api.get_clock()\n",
    "    closing = clock.next_close - clock.timestamp\n",
    "    return round(closing.total_seconds() / 60)"
   ]
  },
  {
   "cell_type": "code",
   "execution_count": null,
   "metadata": {},
   "outputs": [],
   "source": [
    "time_to_market_close()"
   ]
  },
  {
   "cell_type": "code",
   "execution_count": null,
   "metadata": {},
   "outputs": [],
   "source": [
    "# High frequency trading loop:\n",
    "def hft(symbol, is_stock_owned, stock_price):\n",
    "    for ticker in positions_tickers:\n",
    "        current_price = alpaca_api.list_positions(symbol.current_price) \n",
    "        # check if we own the stock\n",
    "        if is_stock_owned == 'false' and stock_price == 'nan':\n",
    "            # buy stock\n",
    "            alpaca_api.submit_order(\n",
    "                symbol=symbol, qty=100, side='buy',\n",
    "                type='limit', time_in_force='day',\n",
    "                limit_price=str(alpaca_api.list_positions(symbol.current_price))\n",
    "            )\n",
    "            stock_price = alpaca_api.list_positions(symbol.current_price)\n",
    "            is_stock_owned = 'true'\n",
    "        if is_stock_owned == 'false' and stock_price != 'nan':\n",
    "            if alpaca_api.list_positions(symbol.current_price) > stock_sold_for:\n",
    "                # Buy stock\n",
    "                alpaca_api.submit_order(\n",
    "                symbol=symbol, qty=100, side='buy',\n",
    "                type='limit', time_in_force='day',\n",
    "                limit_price=str(alpaca_api.list_positions(symbol.current_price))\n",
    "            )\n",
    "        if is_stock_owned == 'false' and stock_sold_for < stock_price:\n",
    "            next\n",
    "            if alpaca_api.list_positions(symbol.current_price) > stock_sold_for:\n",
    "                # Buy stock\n",
    "                alpaca_api.submit_order(\n",
    "                symbol=symbol, qty=100, side='buy',\n",
    "                type='limit', time_in_force='day',\n",
    "                limit_price=str(alpaca_api.list_positions(symbol.current_price))\n",
    "            )\n",
    "        if is_stock_owned == 'true' and (alpaca_api.list_positions(symbol.current_price) > stock_price):\n",
    "            # do not sell stock if price is greater than or equal to purchase price\n",
    "#             if alpaca_api.list_positions(symbol.current_price) >= stock_price:\n",
    "                next\n",
    "            # sell stock if current price is below what we paid for it\n",
    "        if alpaca_api.list_positions(symbol.current_price) < stock_price:\n",
    "            alpaca_api.submit_order(\n",
    "                symbol=symbol, qty=100, side='sell',\n",
    "                type='limit', time_in_force='day',\n",
    "                limit_price = str(alpaca_api.list_positions(symbol.current_price))\n",
    "            )\n",
    "            stock_sold_for = float((alpaca_api.list_positions(symbol.current_price)))\n",
    "            is_stock_owned = 'false'"
   ]
  },
  {
   "cell_type": "code",
   "execution_count": null,
   "metadata": {},
   "outputs": [],
   "source": [
    "hft(symbol, is_stock_owned, stock_price)"
   ]
  }
 ],
 "metadata": {
  "kernelspec": {
   "display_name": "Python [conda env:dev]",
   "language": "python",
   "name": "conda-env-dev-py"
  },
  "language_info": {
   "codemirror_mode": {
    "name": "ipython",
    "version": 3
   },
   "file_extension": ".py",
   "mimetype": "text/x-python",
   "name": "python",
   "nbconvert_exporter": "python",
   "pygments_lexer": "ipython3",
   "version": "3.7.9"
  }
 },
 "nbformat": 4,
 "nbformat_minor": 4
}
