{
 "cells": [
  {
   "cell_type": "code",
   "execution_count": 1,
   "metadata": {},
   "outputs": [
    {
     "data": {
      "text/plain": [
       "True"
      ]
     },
     "execution_count": 1,
     "metadata": {},
     "output_type": "execute_result"
    }
   ],
   "source": [
    "import alpaca_trade_api as tradeapi\n",
    "import os\n",
    "import pandas as pd\n",
    "import requests\n",
    "import time\n",
    "from ta import trend\n",
    "import numpy as np\n",
    "from datetime import datetime, timedelta\n",
    "from pytz import timezone\n",
    "from dotenv import load_dotenv\n",
    "load_dotenv()"
   ]
  },
  {
   "cell_type": "code",
   "execution_count": 2,
   "metadata": {},
   "outputs": [],
   "source": [
    "# Specify paper trading environment & set API keys\n",
    "alpaca_paper_endpoint=os.getenv('ALPACA_PAPER_ENDPOINT')\n",
    "alpaca_api_key=os.getenv('ALPACA_API_KEY')\n",
    "alpaca_secret_key=os.getenv('ALPACA_SECRET_KEY')\n",
    "# Create alpaca API object\n",
    "alpaca_api=tradeapi.REST(\n",
    "    alpaca_api_key,\n",
    "    alpaca_secret_key,\n",
    "    alpaca_paper_endpoint,\n",
    "    api_version='v2'\n",
    ")"
   ]
  },
  {
   "cell_type": "code",
   "execution_count": 3,
   "metadata": {},
   "outputs": [
    {
     "data": {
      "text/plain": [
       "[]"
      ]
     },
     "execution_count": 3,
     "metadata": {},
     "output_type": "execute_result"
    }
   ],
   "source": [
    "alpaca_api.list_positions()"
   ]
  },
  {
   "cell_type": "code",
   "execution_count": 4,
   "metadata": {},
   "outputs": [],
   "source": [
    "stock_price = float('nan')\n",
    "# last_sold_price = float()\n",
    "is_stock_owned = 'false'\n",
    "symbol = 'SPY'"
   ]
  },
  {
   "cell_type": "code",
   "execution_count": 5,
   "metadata": {},
   "outputs": [],
   "source": [
    "def hft(symbol, is_stock_owned, stock_price):\n",
    "    for s in symbol:\n",
    "        # check if we own the stock\n",
    "        if is_stock_owned == 'false' and stock_price == 'nan' :\n",
    "            # buy stock\n",
    "            alpaca_api.submit_order(\n",
    "                symbol=symbol, qty=100, side='buy',\n",
    "                type='limit', time_in_force='day',\n",
    "                limit_price=str(alpaca_api.list_positions(symbol.current_price))\n",
    "            )\n",
    "            stock_price = alpaca_api.list_positions(symbol.current_price)\n",
    "            is_stock_owned = 'true'\n",
    "        if is_stock_owned == 'true':\n",
    "            # do not sell stock if price is greater than or equal to purchase price\n",
    "            if alpaca_api.list_positions(symbol.current_price) >= stock_price:\n",
    "                next\n",
    "            # sell stock if current price is below what we paid for it\n",
    "            elif alpaca_api.list_positions(symbol.current_price) < stock_price:\n",
    "                alpaca_api.submit_order(\n",
    "                    symbol=symbol, qty=100, side='sell',\n",
    "                    type='market', time_in_force='day+ext',\n",
    "                    limit_price = str(alpaca_api.list_positions(symbol.current_price))\n",
    "                )\n",
    "                stock_price = float((alpaca_api.list_positions(symbol.current_price)))\n",
    "                is_stock_owned = 'false'"
   ]
  },
  {
   "cell_type": "code",
   "execution_count": 6,
   "metadata": {},
   "outputs": [
    {
     "data": {
      "text/plain": [
       "'false'"
      ]
     },
     "execution_count": 6,
     "metadata": {},
     "output_type": "execute_result"
    }
   ],
   "source": [
    "is_stock_owned"
   ]
  },
  {
   "cell_type": "code",
   "execution_count": 7,
   "metadata": {},
   "outputs": [
    {
     "data": {
      "text/plain": [
       "nan"
      ]
     },
     "execution_count": 7,
     "metadata": {},
     "output_type": "execute_result"
    }
   ],
   "source": [
    "stock_price"
   ]
  },
  {
   "cell_type": "code",
   "execution_count": 8,
   "metadata": {},
   "outputs": [],
   "source": [
    "hft(symbol, is_stock_owned, stock_price)"
   ]
  },
  {
   "cell_type": "code",
   "execution_count": 14,
   "metadata": {},
   "outputs": [
    {
     "data": {
      "text/plain": [
       "Order({   'asset_class': 'us_equity',\n",
       "    'asset_id': '675f7911-9aca-418a-acd5-07cfacb9d32b',\n",
       "    'canceled_at': None,\n",
       "    'client_order_id': 'ce4f5ed1-2906-405e-b632-be18631b9212',\n",
       "    'created_at': '2021-06-10T23:51:57.525256Z',\n",
       "    'expired_at': None,\n",
       "    'extended_hours': False,\n",
       "    'failed_at': None,\n",
       "    'filled_at': None,\n",
       "    'filled_avg_price': None,\n",
       "    'filled_qty': '0',\n",
       "    'hwm': None,\n",
       "    'id': 'fa9b37ab-ea84-4972-9807-7d2efd60e527',\n",
       "    'legs': None,\n",
       "    'limit_price': '177.73',\n",
       "    'notional': None,\n",
       "    'order_class': '',\n",
       "    'order_type': 'limit',\n",
       "    'qty': '1',\n",
       "    'replaced_at': None,\n",
       "    'replaced_by': None,\n",
       "    'replaces': None,\n",
       "    'side': 'buy',\n",
       "    'status': 'accepted',\n",
       "    'stop_price': None,\n",
       "    'submitted_at': '2021-06-10T23:51:57.517939Z',\n",
       "    'symbol': 'GLD',\n",
       "    'time_in_force': 'day',\n",
       "    'trail_percent': None,\n",
       "    'trail_price': None,\n",
       "    'type': 'limit',\n",
       "    'updated_at': '2021-06-10T23:51:57.525256Z'})"
      ]
     },
     "execution_count": 14,
     "metadata": {},
     "output_type": "execute_result"
    }
   ],
   "source": [
    "alpaca_api.submit_order(\n",
    "    symbol='GLD',\n",
    "    qty=1,\n",
    "    side='buy',\n",
    "    type='limit',\n",
    "    limit_price= 177.73,\n",
    "    time_in_force='day'\n",
    ")"
   ]
  },
  {
   "cell_type": "code",
   "execution_count": null,
   "metadata": {},
   "outputs": [],
   "source": []
  }
 ],
 "metadata": {
  "kernelspec": {
   "display_name": "Python [conda env:dev]",
   "language": "python",
   "name": "conda-env-dev-py"
  },
  "language_info": {
   "codemirror_mode": {
    "name": "ipython",
    "version": 3
   },
   "file_extension": ".py",
   "mimetype": "text/x-python",
   "name": "python",
   "nbconvert_exporter": "python",
   "pygments_lexer": "ipython3",
   "version": "3.7.9"
  }
 },
 "nbformat": 4,
 "nbformat_minor": 4
}
