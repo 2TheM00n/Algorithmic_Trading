{
 "cells": [
  {
   "cell_type": "code",
   "execution_count": null,
   "metadata": {},
   "outputs": [],
   "source": [
    "import datetime\n",
    "import backtrader as bt\n",
    "from strategy import *"
   ]
  },
  {
   "cell_type": "code",
   "execution_count": null,
   "metadata": {},
   "outputs": [],
   "source": [
    "# Instantiate Cerebro engine:\n",
    "cerebro = bt.Cerebro()\n",
    "\n",
    "# Set data parameters and add to Cerebro:\n",
    "data = bt.feeds.YahooFinanceCSVData(\n",
    "    dataname='TSLA.csv',\n",
    "    fromdate=datetime.datetime(2016, 6, 14),\n",
    "    todate=datetime.datetime(2021, 6, 14),\n",
    ")\n",
    "\n",
    "cerebro.adddata(data)\n",
    "\n",
    "# Add strategy to Cerebro:\n",
    "cerebro.addstrategy(GoldCross)\n",
    "\n",
    "# Default position size:\n",
    "cerebro.addsizer(bt.sizers.SizerFix, stake=3)\n",
    "\n",
    "if __name__ == '__main__':\n",
    "    # Run Cerebro Engine:\n",
    "    start_portfolio_value = cerebro.broker.getvalue()\n",
    "\n",
    "    cerebro.run()\n",
    "    cerebro.plot()\n",
    "    end_portfolio_value = cerebro.broker.getvalue()\n",
    "    pnl = end_portfolio_value - start_portfolio_value\n",
    "    print(f'Starting Portfolio Value: {start_portfolio_value:2f}')\n",
    "    print(f'Final Portfolio Value: {end_portfolio_value:2f}')\n",
    "    print(f'PnL: {pnl:.2f}')"
   ]
  }
 ],
 "metadata": {
  "kernelspec": {
   "display_name": "Python [conda env:dev]",
   "language": "python",
   "name": "conda-env-dev-py"
  },
  "language_info": {
   "codemirror_mode": {
    "name": "ipython",
    "version": 3
   },
   "file_extension": ".py",
   "mimetype": "text/x-python",
   "name": "python",
   "nbconvert_exporter": "python",
   "pygments_lexer": "ipython3",
   "version": "3.7.9"
  }
 },
 "nbformat": 4,
 "nbformat_minor": 4
}
